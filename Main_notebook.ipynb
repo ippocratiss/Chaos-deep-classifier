{
 "cells": [
  {
   "cell_type": "markdown",
   "id": "ce9bd8aa-d0e9-42e7-9381-7382b8a9965e",
   "metadata": {
    "tags": []
   },
   "source": [
    "# **Introduction**\n",
    "#### [For a detailed presentation of the analysis and results see the published PDF paper.]\n",
    "\n",
    "\n",
    "The **goal** of this project is to build a deep learning network classifier which is able to classify order and chaos in 2-dimensional, discreet orbits on the plane, which result from Hamiltonian systems. Such orbits result from the so--called Poicare sections or Poincare maps.\n",
    "\n",
    "As our reference map we use the so--called **Standard Map** which is one of the most representative Poincare maps, and exhibits universal features of the way order and chaos emerges in Hamiltonian systems. We first use it to train and validate our deep model, and then we apply our trained model on other Poincare maps. We show that the trained ML model is able to identify chaos and order in other systems too with reasonably high accuracy, due to the **universality features** of chaotic/ordered dynamics of Hamiltonian systems. \n",
    "\n",
    "#### **The code's modules:**\n",
    "\n",
    " - functions.py: Definitions of functions generating the Poincare maps \n",
    "\n",
    " - generate_data.py: Data preparation and augmentation finctionality\n",
    "\n",
    " - model.py: Deep network model, and testing functionality \n",
    "\n",
    " - Main_notebook.ipynb: Main analysis + plots \n"
   ]
  },
  {
   "cell_type": "markdown",
   "id": "16e2a520-0ebf-4af4-b466-969b5e922460",
   "metadata": {},
   "source": [
    "### ****Step I**:** Definition of data-generating functions (functions.py)\n",
    "\n",
    "Here we load the module with the **Standard Map** and the other Poincare maps we use. Given the initial parameters/conditions their output will be a sequence of points corresponding to the orbit system on the 2D plane. When loading the data, the arrays with the orbits  are generated on the spot - they are not pre-saved in tabulated form.\n",
    "\n",
    "In all maps, **K** is the constant parametrising the departure from integrability in the given system, i.e the perturbation away from the integrable system which leads to chaos. **$n\\_points$** is the number of iterations of the map. **$(x0,y0)$** is the initial conditions on the 2-dimensional Poincare surface. Different choices of initial parameters result to dynamics which exhibit order and chaos respectively. We also give the option of adding a small **Gaussian noise** to the training data (Standard Map) so that the model generalises better. The data exported for training are in the form **(res)x(res)**, where \"res\" is an integer defining the resolution (\"pixels\") along the x- and y- direction on the 2D plane of the orbit. We choose 30x30 (see also paper for more information)."
   ]
  },
  {
   "cell_type": "code",
   "execution_count": 1,
   "id": "1bd7b76d-8863-40ee-922c-f5a79690afab",
   "metadata": {
    "scrolled": true
   },
   "outputs": [
    {
     "name": "stderr",
     "output_type": "stream",
     "text": [
      "2024-01-28 17:30:19.531481: E external/local_xla/xla/stream_executor/cuda/cuda_dnn.cc:9261] Unable to register cuDNN factory: Attempting to register factory for plugin cuDNN when one has already been registered\n",
      "2024-01-28 17:30:19.531525: E external/local_xla/xla/stream_executor/cuda/cuda_fft.cc:607] Unable to register cuFFT factory: Attempting to register factory for plugin cuFFT when one has already been registered\n",
      "2024-01-28 17:30:19.557853: E external/local_xla/xla/stream_executor/cuda/cuda_blas.cc:1515] Unable to register cuBLAS factory: Attempting to register factory for plugin cuBLAS when one has already been registered\n",
      "2024-01-28 17:30:19.620113: I tensorflow/core/platform/cpu_feature_guard.cc:182] This TensorFlow binary is optimized to use available CPU instructions in performance-critical operations.\n",
      "To enable the following instructions: AVX2 FMA, in other operations, rebuild TensorFlow with the appropriate compiler flags.\n"
     ]
    }
   ],
   "source": [
    "import numpy as np\n",
    "from generate_data import *\n",
    "from functions import *\n",
    "from model import * \n",
    "import matplotlib.pyplot as plt\n",
    "\n",
    "n_points = 450 #450 # number of evaluations points for x and y. Total points of map = 2*n_points.\n",
    "res = int(np.sqrt(2*n_points)) # must be integer. This will be the resolution of the 'image'"
   ]
  },
  {
   "cell_type": "markdown",
   "id": "ea1dd256-655c-4703-acaa-7f60d1bc10c6",
   "metadata": {
    "tags": []
   },
   "source": [
    "# **Step II: Preparing the training data** (generate_data.py)\n",
    "\n",
    "Here we set up the arrays with the training and validation data. We choose the **Standard Map** as our generator for the training data (see paper). The set cosists of **representative orbits of order and chaos**, specifying appropriate values for the order paramerter $K$ and initial points $(x0,y0)$. For the **labels** of the training set we choose: (order, chaos) = (1, 0). The training data are fed into the ML network through an **ImageGenerator** which augments the data (rotation, shuffling, etc) to achieve better generalisation. \n",
    "\n",
    "**Training** = (2/3)*(total data),      **Validation** = (1/3)*(total data).\n",
    "\n",
    "Later, we loop over different agumentation of the training/validation set at fixed agumentation parameters, in order to test that the resulting sets lie around a similar standard deviation $\\sigma$. "
   ]
  },
  {
   "cell_type": "code",
   "execution_count": 2,
   "id": "7b361e57-f9aa-46ab-a4fc-801ac81e6688",
   "metadata": {},
   "outputs": [],
   "source": [
    "from sklearn.utils import shuffle\n",
    "\n",
    "data_SM = load_data_SM() # load Standard Map data\n",
    "data_deVog = load_data_deVog() # load de Vogelaere Map data\n",
    "Np = int(len(data_SM[0])) \n",
    "frac = 2/3 # fraction of dataset to use for training, the rest (1-frac) is for validation\n",
    "\n",
    "X_train = data_SM[0] # train/validation orbits\n",
    "y = data_SM[1] # train/validation labels\n",
    "data_SM = shuffle(X_train, y) # shuffle training/validation data\n",
    "data_train = [d[:int((frac)*Np)] for d in data_SM] # training data\n",
    "data_val = [d[-int((1-frac)*Np):] for d in data_SM] # validation data\n",
    "data_test = data_deVog # benchmark testing data\n",
    "data_test_Web = load_data_Web() # more testing data \n"
   ]
  },
  {
   "cell_type": "code",
   "execution_count": 3,
   "id": "bd39ed5f-ad09-4c06-92f2-45ffbc6071ab",
   "metadata": {},
   "outputs": [
    {
     "name": "stdout",
     "output_type": "stream",
     "text": [
      "Dataset statistics:  (64, 30, 30, 1) -0.026402855 0.8721529\n",
      "Dataset statistics:  (64, 30, 30, 1) -0.008044084 0.86294127\n",
      "Dataset statistics:  (384, 30, 30, 1) -0.0024601517 0.99213046\n",
      "Dataset statistics:  (384, 30, 30, 1) 1.987118e-05 1.0014379\n"
     ]
    }
   ],
   "source": [
    "# Iterator for training with augmentation.\n",
    "iterator_train =  produce_iterator(data_train, batch_size=64, print_stats=True,\n",
    "                  shuffle=True, rotation_range=60, \n",
    "                  width_shift_range=0.001, height_shift_range=0.001, \n",
    "                  shear_range=0.35, fill_mode='nearest')\n",
    "\n",
    "# We choose the same data generator for training and validation set.\n",
    "#iterator_val =  produce_iterator(data_val, batch_size=64, shuffle = True, print_stats=True)\n",
    "iterator_val =  produce_iterator(data_val, batch_size=64, print_stats=True,\n",
    "                  shuffle=True, rotation_range=60, \n",
    "                  width_shift_range=0.001, height_shift_range=0.001, \n",
    "                  shear_range=0.35,fill_mode='nearest')\n",
    "\n",
    "# Test iterators. No augmentation used.\n",
    "iterator_test = produce_iterator(data_test, batch_size=384, shuffle = True, print_stats=True)\n",
    "\n",
    "iterator_test_Web = produce_iterator(data_test_Web, batch_size=384, shuffle = True, print_stats=True)\n"
   ]
  },
  {
   "cell_type": "code",
   "execution_count": null,
   "id": "e4ab6faa-9a5f-4666-b485-f374caee9dfd",
   "metadata": {},
   "outputs": [],
   "source": [
    "# Here we want to produce different realisations of the training data using augmentation/standardisation\n",
    "# which produces a standardised version of the data with a mean and std.\n",
    "# We check how the mean and std of the data set varies. We would like that to see reasonable scatter.\n",
    "\n",
    "stats = []\n",
    "for i in range(0,50):\n",
    "    iterator =  produce_iterator(data_train, batch_size=64, print_stats=True,\n",
    "                shuffle=True, rotation_range=90, \n",
    "                width_shift_range=0.001, height_shift_range=0.001, \n",
    "                shear_range=0.3, fill_mode='nearest')\n",
    "\n",
    "    mean_i, std_i = train_data_stats(iterator, 'train')\n",
    "    stats.append([mean_i, std_i])\n",
    "\n",
    "stats = np.array(stats)\n",
    "\n",
    "# Plot the mean and std.\n",
    "plt.scatter(stats[:,0],stats[:,1])\n",
    "plt.xlabel('μ_augm.', fontsize=20, color='black') \n",
    "plt.ylabel('σ_augm.', fontsize=20, color='black')\n",
    "\n",
    "print('<μ_augm> = ', np.mean(stats[:,0])) # The mean value of the standardised mean of each dataset realisation \n",
    "print('σ of <μ_augm> = ', np.std(stats[:,0]))  # The std value of the standardised std of each dataset realisation \n",
    "print('<σ_augm> = ', np.mean(stats[:,1])) # The mean value of the standardised mean of each dataset realisation \n",
    "print('σ of  <σ_augm> = ', np.std(stats[:,1]))  # The std value of the standardised std of each dataset realisation "
   ]
  },
  {
   "cell_type": "markdown",
   "id": "d96fa8ba-1b71-443b-ba7f-d4d6ac441f20",
   "metadata": {},
   "source": [
    "# **Step III: Building of the deep network** (model.py)\n",
    "\n",
    "Here we construct the **order-chaos classifier ML network**. We use a simple feed-forward architecture combining convolutional layers with a set of dense layers. (See paper for more.)"
   ]
  },
  {
   "cell_type": "code",
   "execution_count": null,
   "id": "423cc0b9-9741-45f5-932d-a8b940c918b5",
   "metadata": {},
   "outputs": [],
   "source": [
    "### Create the deep model\n",
    "model, history = produce_model(iterator_train, iterator_val, epochs = 70)\n",
    "\n",
    "# Plot metrics\n",
    "plot_history(history)"
   ]
  },
  {
   "cell_type": "markdown",
   "id": "79af76fe-8f2d-404a-90cd-977d24c536d6",
   "metadata": {},
   "source": [
    "# **Step IV: Testing** (model.py)\n",
    " \n",
    "**i)** We first test the model with our **benchmark data set**, a dataset based on the the so--called  **quadratic de Vogelaere map**, which correspond to another 2-dimensional Poincare map (see paper). We follow a similar approach as before. We also test against another independent map, the **Web map**.\n",
    "\n",
    "**ii)** We **loop** over train-validation-evaluation for our **benchmark data set** in order to produce a statistical sample of evaluation results based on different trained models. This will provide a reassurance given the inherit stochasticity in the models.  \n",
    "\n",
    "**iii)** We then test against **JHMAP map** (see paper)."
   ]
  },
  {
   "cell_type": "code",
   "execution_count": null,
   "id": "b8bd40ec-3e6d-4a48-9ef7-471e1b850569",
   "metadata": {},
   "outputs": [],
   "source": [
    "###### Save the trained model if needed ######\n",
    "#model.save('model_22-12-2023_acc95.keras')\n",
    "\n",
    "###### Load the saved model if needed ######\n",
    "new_model = tf.keras.models.load_model('best_model_acc95.0_epoch45.keras')\n",
    "model = new_model\n",
    "\n",
    "# Evaluate the model with the benchmark testing set (deVogelaere map)\n",
    "test_1 = produce_evaluation(iterator_test, model)\n",
    "print(\"Benchmark test = \", test_1)\n",
    "\n",
    "# Evaluate the model with the Web map \n",
    "test_2 = produce_evaluation(iterator_test_Web, model)\n",
    "print(\"Web map test = \", test_2)\n"
   ]
  },
  {
   "cell_type": "code",
   "execution_count": null,
   "id": "de2b8bff-5fad-40be-bc64-cbb8eae9b093",
   "metadata": {
    "scrolled": true
   },
   "outputs": [],
   "source": [
    "### Create a statistical sample of train+evaluation. \n",
    "# It loops over training and then evaluating the resulting model. \n",
    "\n",
    "import warnings\n",
    "warnings.filterwarnings('ignore')\n",
    "\n",
    "# similar as the iterator_test defined previously, but with larger batch size \n",
    "iterator_test = produce_iterator(data_test, batch_size = 256, shuffle = True, print_stats=True)\n",
    "acc_results = []\n",
    "acc_results = [[i,loop_train_eval(i, data_train, data_val, iterator_train, iterator_val, iterator_test, epochs = 45)] for i in range(0,40)]\n",
    "\n",
    "# Plot the results\n",
    "array1=np.array(acc_results)\n",
    "plt.scatter(array1[:,0],array1[:,1])\n",
    "print('Accuracy mean = ', np.mean(array1[:,1]))\n",
    "print('Accuracy std = ', np.std(array1[:,1]))\n"
   ]
  },
  {
   "cell_type": "markdown",
   "id": "b0fc32b5-4d19-4504-ad91-fc362d5e7282",
   "metadata": {},
   "source": [
    "#### Here we test against the JHMAP. "
   ]
  },
  {
   "cell_type": "code",
   "execution_count": null,
   "id": "d8fe6663-d483-48ee-8308-0702808d06eb",
   "metadata": {},
   "outputs": [],
   "source": [
    "################ Import the files and prepare the list with data \n",
    "data = (('001', 1), ('002',1), ('003',0), ('004',0),('005',0),('006',0),('007',1), ('008',1),('009',1),('010',1),('011',0),('012',0),('013',0),('014',0),('015',0),('016',0),('017',0),('018',0),('019',1),('020',1),('021',1) )\n",
    "data_JHMAP_orbits = [] \n",
    "data_JHMAP_labels = [] \n",
    "# This loop imports the data, normalises them and appends them in a list\n",
    "for data_i in data: \n",
    "    file_i = data_i[0]\n",
    "    class_i = data_i[1]\n",
    "    folder_i = '/home/saltas/chaos/final/external_orbits/JHMAP' + file_i + '.dat' \n",
    "    test_i = np.loadtxt(folder_i)[:n_points]\n",
    "    testX = [] \n",
    "    for i in range(0,len(test_i)):\n",
    "        testX.append([np.float64(test_i[i][0])/max(np.abs(test_i[:,0])),np.float64(test_i[i][1])/max(np.abs(test_i[:,1]))])\n",
    "    testX = np.array(testX)\n",
    "    testX = testX.reshape(res,res)\n",
    "    data_JHMAP_orbits.append(testX)\n",
    "    data_JHMAP_labels.append(class_i)\n",
    "data_JHMAP_orbits = np.array(data_JHMAP_orbits)\n",
    "data_JHMAP_labels = np.array(data_JHMAP_labels)\n",
    "data_JHMAP =  data_JHMAP_orbits, data_JHMAP_labels\n",
    "iterator_test_JHMAP = produce_iterator(data_JHMAP, batch_size=9)\n",
    "\n",
    "produce_evaluation(iterator_test_JHMAP, model)\n"
   ]
  },
  {
   "cell_type": "markdown",
   "id": "0585c624-97de-47c5-85aa-2e8717f6a6cd",
   "metadata": {},
   "source": [
    "## Initial conditions to reproduce plots in the paper\n",
    "**Maps**: Standard map, de Vogelaerre map, Web map.\n"
   ]
  },
  {
   "cell_type": "code",
   "execution_count": null,
   "id": "5d03f9f8-6a6d-4864-a4fe-32549a1e1be9",
   "metadata": {},
   "outputs": [],
   "source": [
    "K0 = 0.1   # The perturbation parameter in each map\n",
    "x00 = 0.01 # Initial condition on x-axis\n",
    "y00 = 0.0  # Initial condition on y-axis\n",
    "\n",
    "# Web map - chaos : [K 0 = 3.5, 5.45, 8.5, 9.6, x0,y0 = default ] #n_points = 100\n",
    "##\n",
    "# deVog map - chaos : [K0 = -1.042, x0 = 0.01, y0 =0.] , [K0 = -1.04, x0 = 0.1, y0 =0.05] \n",
    "# deVog map - order : [K0 = 0.504, x0 = 0.2, y0 =0.2] ,  [K0 = -1.0515, x0 = -0.1, y0 =0.005]\n",
    "##\n",
    "# Standard Map - chaos : [K0 = 0.93, x0 = np.pi, y0 = 8.]  #n_points = 100, [K0 = 0.95, x0 = np.pi, y0 = -4.1]  #n_points = 50                   \n",
    "# Standard Map - order :  [K0 = 0.8, np.pi, 8.35], [K0 = 1.2, np.pi, 0.5]\n",
    "#\n",
    "#test0_plot = Standard_map(K0, n_points =  150*n_points, plot = True, x0 = x00, y0 = y00 )\n",
    "#test0_plot = deVog_map(K0, n_points = int(n_points), plot = True, x0 = x00, y0 = y00 )\n",
    "#test0_plot = Web_map(K0, q = 4, n_points =  100*n_points, plot = True )\n",
    "\n",
    "plt.scatter(test0_plot[0],test0_plot[1], s = 0.1, color = 'royalblue')"
   ]
  }
 ],
 "metadata": {
  "kernelspec": {
   "display_name": "Python 3 (ipykernel)",
   "language": "python",
   "name": "python3"
  },
  "language_info": {
   "codemirror_mode": {
    "name": "ipython",
    "version": 3
   },
   "file_extension": ".py",
   "mimetype": "text/x-python",
   "name": "python",
   "nbconvert_exporter": "python",
   "pygments_lexer": "ipython3",
   "version": "3.11.0rc1"
  }
 },
 "nbformat": 4,
 "nbformat_minor": 5
}
